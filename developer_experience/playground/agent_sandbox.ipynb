# agent_sandbox.ipynb - Enterprise AI Agent Testing & Debugging
# %% [markdown]
"""
# Nuzon AI Agent Sandbox
Enterprise-grade testing environment for multi-agent systems
"""

# %% [code]
# Cell 1: Environment Setup
!pip install -q nuzon-sdk==3.4.0 pygments>=2.15 seaborn>=0.12
import os
import json
from pathlib import Path
from getpass import getpass
import numpy as np
import pandas as pd
from IPython.display import display, Markdown

# Security Validation
assert os.environ.get('NUZON_KEY'), "Set NUZON_KEY environment variable"
os.environ['TOKEN'] = getpass("Enter MFA token: ")

# %% [code]
# Cell 2: Agent Initialization
from nuzon import (
    AgentClient, 
    PolicyEngine,
    QuantumEncryptor,
    VectorDB,
    AuditLogger
)

class AgentSandbox:
    def __init__(self, agent_type="conversational"):
        self.client = AgentClient(
            endpoint=os.environ['NUZON_ENDPOINT'],
            api_key=os.environ['NUZON_KEY'],
            token=os.environ['TOKEN']
        )
        self.policy = PolicyEngine.load_default()
        self.vector_db = VectorDB()
        self.audit = AuditLogger()
        self.encryptor = QuantumEncryptor()
        
    def execute(self, input_data: dict) -> dict:
        """Enterprise-grade execution pipeline"""
        validated = self.policy.validate(input_data)
        encrypted = self.encryptor.encrypt(validated)
        
        with self.audit.start_span("agent_execution"):
            response = self.client.execute(
                agent_type=self.agent_type,
                input=encrypted
            )
            
        decrypted = self.encryptor.decrypt(response)
        self.vector_db.store_interaction(validated, decrypted)
        return decrypted

# %% [code]
# Cell 3: Interactive Chat Interface
from ipywidgets import interact, Text, Output

class ChatInterface:
    def __init__(self):
        self.history = []
        self.agent = AgentSandbox()
        self.output = Output()
        
    def _render_response(self, response):
        with self.output:
            display(Markdown(f"**Agent**: {response['content']}"))
            if 'sources' in response:
                display(Markdown(f"_References_: {response['sources']}"))
                
    def chat(self, text):
        self.history.append({"user": text})
        response = self.agent.execute({
            "text": text,
            "history": self.history[-5:]
        })
        self.history[-1]["agent"] = response
        self._render_response(response)
        
display(Output())
chat_ui = ChatInterface()
interact(chat_ui.chat, text=Text(placeholder="Enter message..."));

# %% [code]
# Cell 4: Visualization Toolkit
import matplotlib.pyplot as plt
import seaborn as sns

def plot_conversation_flow():
    df = pd.DataFrame(chat_ui.history)
    plt.figure(figsize=(12,6))
    sns.lineplot(data=df, x=df.index, y='response_time')
    plt.title("Response Latency Analysis")
    plt.ylabel("Milliseconds")
    plt.show()

def show_attention_map(response):
    attn = np.array(response['attention_weights'])
    plt.matshow(attn, cmap='viridis')
    plt.title("Agent Attention Patterns")
    plt.colorbar()
    plt.show()

# %% [code]
# Cell 5: Debugging Console
from IPython.core.debugger import set_trace

class Debugger:
    @staticmethod
    def inspect_response(response):
        display({
            "Raw Payload": response,
            "Token Usage": response.get('usage'),
            "Model Version": response.get('model'),
            "Processing Time": f"{response['processing_ms']}ms"
        })
        
    @staticmethod
    def breakpoint():
        set_trace()

# %% [code]
# Cell 6: Enterprise Features Demo
# Example 1: Multi-agent Orchestration
def financial_analysis(query):
    sandboxes = {
        "research": AgentSandbox("research"),
        "analytics": AgentSandbox("analytics"),
        "compliance": AgentSandbox("compliance")
    }
    
    results = {}
    results['research'] = sandboxes["research"].execute({"query": query})
    results['analytics'] = sandboxes["analytics"].execute(
        results['research']['data']
    )
    results['compliance'] = sandboxes["compliance"].execute(
        results['analytics']['data']
    )
    
    return pd.DataFrame.from_dict(results, orient='index')

# Example 2: File Analysis Pipeline
def analyze_document(file_path):
    with open(file_path, 'rb') as f:
        encrypted_file = QuantumEncryptor().encrypt(f.read())
        
    agent = AgentSandbox("document")
    return agent.execute({
        "file_type": Path(file_path).suffix[1:],
        "content": encrypted_file
    })

# %% [markdown]
"""
## Usage Guide

1. Initialize Agent:
```python
sandbox = AgentSandbox(agent_type="analytics")
